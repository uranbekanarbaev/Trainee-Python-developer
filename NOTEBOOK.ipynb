{
 "cells": [
  {
   "cell_type": "code",
   "execution_count": 7,
   "id": "d01b4297-7819-4fa6-8f38-1b932aab92fb",
   "metadata": {},
   "outputs": [],
   "source": [
    "import os\n",
    "import requests\n",
    "import pandas as pd\n",
    "import matplotlib.pyplot as plt\n",
    "import seaborn as sns\n",
    "import plotly.express as px"
   ]
  },
  {
   "cell_type": "code",
   "execution_count": 8,
   "id": "d67c2241-b4e8-47a7-8cad-902b9de05a2b",
   "metadata": {},
   "outputs": [],
   "source": [
    "def draw_plots(json_url, top_n=10):\n",
    "    response = requests.get(json_url)\n",
    "    response.raise_for_status()\n",
    "    \n",
    "    data = response.json()\n",
    "    \n",
    "    df = pd.DataFrame(data)\n",
    "    \n",
    "    if not os.path.exists('plots'):\n",
    "        os.makedirs('plots')\n",
    "    \n",
    "    plot_paths = []\n",
    "    \n",
    "    columns_to_plot = ['mean', 'max', 'min', 'floor_mean', 'floor_max', 'floor_min', 'ceiling_mean', 'ceiling_max', 'ceiling_min']\n",
    "    \n",
    "    sns.set(style=\"whitegrid\")\n",
    "    \n",
    "    top_df = df.nlargest(top_n, 'mean')\n",
    "    \n",
    "    for col in columns_to_plot:\n",
    "        plt.figure(figsize=(12, 8))\n",
    "        \n",
    "        ax = sns.barplot(x='name', y=col, data=top_df, palette='viridis')\n",
    "        \n",
    "        ax.set_xlabel('Name', fontsize=14)\n",
    "        ax.set_ylabel(col.replace('_', ' ').title(), fontsize=14)\n",
    "        ax.set_title(f'Top {top_n} Names by {col.replace(\"_\", \" \").title()}', fontsize=16)\n",
    "        \n",
    "        ax.set_xticklabels(ax.get_xticklabels(), rotation=45, horizontalalignment='right')\n",
    "        \n",
    "        for p in ax.patches:\n",
    "            ax.annotate(format(p.get_height(), '.2f'), \n",
    "                        (p.get_x() + p.get_width() / 2., p.get_height()), \n",
    "                        ha = 'center', va = 'center', \n",
    "                        xytext = (0, 9), \n",
    "                        textcoords = 'offset points')\n",
    "        \n",
    "        plt.tight_layout()\n",
    "        \n",
    "        plot_path = f'plots/{col}_top_{top_n}_by_name.png'\n",
    "        plt.savefig(plot_path, dpi=300)\n",
    "        plt.close()\n",
    "        \n",
    "        plot_paths.append(plot_path)\n",
    "    \n",
    "    for col in columns_to_plot:\n",
    "        fig = px.bar(df, x='name', y=col, title=f'{col.replace(\"_\", \" \").title()} by Name', labels={'name': 'Name', col: col.replace('_', ' ').title()})\n",
    "        fig.update_layout(xaxis_tickangle=-45)\n",
    "        plot_path = f'plots/interactive_{col}_by_name.html'\n",
    "        fig.write_html(plot_path)\n",
    "        plot_paths.append(plot_path)\n",
    "    \n",
    "    return plot_paths"
   ]
  },
  {
   "cell_type": "code",
   "execution_count": 9,
   "id": "2c8ce185-b392-4983-a36e-5afd9fd6adc6",
   "metadata": {},
   "outputs": [
    {
     "name": "stdout",
     "output_type": "stream",
     "text": [
      "plots/mean_top_10_by_name.png\n",
      "plots/max_top_10_by_name.png\n",
      "plots/min_top_10_by_name.png\n",
      "plots/floor_mean_top_10_by_name.png\n",
      "plots/floor_max_top_10_by_name.png\n",
      "plots/floor_min_top_10_by_name.png\n",
      "plots/ceiling_mean_top_10_by_name.png\n",
      "plots/ceiling_max_top_10_by_name.png\n",
      "plots/ceiling_min_top_10_by_name.png\n",
      "plots/interactive_mean_by_name.html\n",
      "plots/interactive_max_by_name.html\n",
      "plots/interactive_min_by_name.html\n",
      "plots/interactive_floor_mean_by_name.html\n",
      "plots/interactive_floor_max_by_name.html\n",
      "plots/interactive_floor_min_by_name.html\n",
      "plots/interactive_ceiling_mean_by_name.html\n",
      "plots/interactive_ceiling_max_by_name.html\n",
      "plots/interactive_ceiling_min_by_name.html\n"
     ]
    }
   ],
   "source": [
    "json_url = \"https://ai-process-sandy.s3.eu-west-1.amazonaws.com/purge/deviation.json\"\n",
    "plot_paths = draw_plots(json_url)\n",
    "\n",
    "for path in plot_paths:\n",
    "    print(path)"
   ]
  },
  {
   "cell_type": "code",
   "execution_count": null,
   "id": "ad246310-b7fb-4726-b911-8f8ebfc20f7c",
   "metadata": {},
   "outputs": [],
   "source": []
  }
 ],
 "metadata": {
  "kernelspec": {
   "display_name": "Python 3 (ipykernel)",
   "language": "python",
   "name": "python3"
  },
  "language_info": {
   "codemirror_mode": {
    "name": "ipython",
    "version": 3
   },
   "file_extension": ".py",
   "mimetype": "text/x-python",
   "name": "python",
   "nbconvert_exporter": "python",
   "pygments_lexer": "ipython3",
   "version": "3.11.7"
  }
 },
 "nbformat": 4,
 "nbformat_minor": 5
}
